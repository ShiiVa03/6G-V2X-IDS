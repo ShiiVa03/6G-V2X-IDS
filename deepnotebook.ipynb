{
 "cells": [
  {
   "cell_type": "markdown",
   "metadata": {},
   "source": [
    "# First Stage\n",
    "## Unsupervised Anomaly Detection\n",
    "\n",
    "\n",
    "To the unsupervised anomaly detection we employed 3 different Deep Neural Networks (DNN) - Model 1: LSTM Autoencoder (M1), Model 2: CNN-LSTM (M2) and Model 3: CNN-BiLSTM (M3).\n",
    "The configurations of their architectures are explained as follows. In M1 we used 2 encoder layers and two decoder layers, each with 1024 and 512 LSTM units respectively. The M2 is composed by 2 CNN layers of 1024 and 512 layers respectively and 4 stacked layers of 512 LSTM units. To the M3 we opted for 2 CNN layers of 1024 and 512 units, and 4 stacked layers of BiLSTM units.\n",
    "\n",
    "In this stage of the approach each model takes as input, sequences of 20 messages and 6 features (X and Y of position and speed vectors, the send time and sender pseudo ID).\n",
    "The idea in this stage is to detect anomalies, by reconstructing the sequences passed as input and checking if the reconstruction error is superior to a threshold. To do so, each model was only trained in genuine sequences to learn the representation of a genuine behavior. So, when the model is passed a sequence, it will reconstruct that sequence producing a sequence whose pattern and values should be identical to the genuine data sequence. We then calculate the reconstruction error and pass this values to the thresholding algorithm. To calculate the reconstruction error we used the mean squared error between the the reconstructed sequence and the original sequence."
   ]
  },
  {
   "cell_type": "code",
   "execution_count": 1,
   "metadata": {},
   "outputs": [],
   "source": [
    "import numpy as np\n",
    "import pandas as pd\n",
    "import tensorflow as tf\n",
    "from tensorflow.keras.layers import Input, LSTM, RepeatVector, TimeDistributed\n",
    "import matplotlib.pyplot as plt\n",
    "from sklearn.preprocessing import MinMaxScaler,StandardScaler\n"
   ]
  },
  {
   "cell_type": "markdown",
   "metadata": {},
   "source": [
    "Loading the Genuine data (it is important to guarantee that the data is only composed by genuine samples)\n"
   ]
  },
  {
   "cell_type": "code",
   "execution_count": 2,
   "metadata": {},
   "outputs": [],
   "source": [
    "genuine_data_path = \"C:\\\\Users\\\\tcosta\\\\Desktop\\\\VeReMi-Dataset\\\\genuine_nosort_mp_3500_pseudo.csv\"\n",
    "train_data= pd.read_csv(genuine_data_path,  encoding='utf8', sep=',', header=0)\n",
    "train_data.drop(['attack'], axis=1, inplace=True)"
   ]
  },
  {
   "cell_type": "code",
   "execution_count": 3,
   "metadata": {},
   "outputs": [
    {
     "data": {
      "text/html": [
       "<div>\n",
       "<style scoped>\n",
       "    .dataframe tbody tr th:only-of-type {\n",
       "        vertical-align: middle;\n",
       "    }\n",
       "\n",
       "    .dataframe tbody tr th {\n",
       "        vertical-align: top;\n",
       "    }\n",
       "\n",
       "    .dataframe thead th {\n",
       "        text-align: right;\n",
       "    }\n",
       "</style>\n",
       "<table border=\"1\" class=\"dataframe\">\n",
       "  <thead>\n",
       "    <tr style=\"text-align: right;\">\n",
       "      <th></th>\n",
       "      <th>sendTime</th>\n",
       "      <th>posX</th>\n",
       "      <th>posY</th>\n",
       "      <th>spdX</th>\n",
       "      <th>spdY</th>\n",
       "      <th>senderPseudo</th>\n",
       "    </tr>\n",
       "  </thead>\n",
       "  <tbody>\n",
       "    <tr>\n",
       "      <th>0</th>\n",
       "      <td>28535.013764</td>\n",
       "      <td>181.519945</td>\n",
       "      <td>891.698383</td>\n",
       "      <td>-4.538430</td>\n",
       "      <td>-0.600631</td>\n",
       "      <td>1097832.0</td>\n",
       "    </tr>\n",
       "    <tr>\n",
       "      <th>1</th>\n",
       "      <td>28535.169082</td>\n",
       "      <td>145.372169</td>\n",
       "      <td>891.524489</td>\n",
       "      <td>-1.106934</td>\n",
       "      <td>-2.789263</td>\n",
       "      <td>10101612.0</td>\n",
       "    </tr>\n",
       "    <tr>\n",
       "      <th>2</th>\n",
       "      <td>28535.208921</td>\n",
       "      <td>152.391028</td>\n",
       "      <td>909.001472</td>\n",
       "      <td>1.123800</td>\n",
       "      <td>-15.154916</td>\n",
       "      <td>10102092.0</td>\n",
       "    </tr>\n",
       "    <tr>\n",
       "      <th>3</th>\n",
       "      <td>28535.221525</td>\n",
       "      <td>170.028482</td>\n",
       "      <td>889.764678</td>\n",
       "      <td>-1.306324</td>\n",
       "      <td>-0.172629</td>\n",
       "      <td>1097292.0</td>\n",
       "    </tr>\n",
       "    <tr>\n",
       "      <th>4</th>\n",
       "      <td>28535.611519</td>\n",
       "      <td>162.029408</td>\n",
       "      <td>889.237818</td>\n",
       "      <td>0.000452</td>\n",
       "      <td>0.000452</td>\n",
       "      <td>1096872.0</td>\n",
       "    </tr>\n",
       "    <tr>\n",
       "      <th>...</th>\n",
       "      <td>...</td>\n",
       "      <td>...</td>\n",
       "      <td>...</td>\n",
       "      <td>...</td>\n",
       "      <td>...</td>\n",
       "      <td>...</td>\n",
       "    </tr>\n",
       "    <tr>\n",
       "      <th>1329995</th>\n",
       "      <td>27112.535069</td>\n",
       "      <td>188.826721</td>\n",
       "      <td>539.779185</td>\n",
       "      <td>0.000240</td>\n",
       "      <td>0.000240</td>\n",
       "      <td>1052232.0</td>\n",
       "    </tr>\n",
       "    <tr>\n",
       "      <th>1329996</th>\n",
       "      <td>27112.959575</td>\n",
       "      <td>383.150803</td>\n",
       "      <td>515.363692</td>\n",
       "      <td>-6.355285</td>\n",
       "      <td>-5.273393</td>\n",
       "      <td>1053372.0</td>\n",
       "    </tr>\n",
       "    <tr>\n",
       "      <th>1329997</th>\n",
       "      <td>27113.535069</td>\n",
       "      <td>188.606217</td>\n",
       "      <td>539.809818</td>\n",
       "      <td>0.000240</td>\n",
       "      <td>0.000240</td>\n",
       "      <td>1052232.0</td>\n",
       "    </tr>\n",
       "    <tr>\n",
       "      <th>1329998</th>\n",
       "      <td>27113.959575</td>\n",
       "      <td>376.568343</td>\n",
       "      <td>512.248939</td>\n",
       "      <td>-7.791961</td>\n",
       "      <td>-2.735168</td>\n",
       "      <td>1053372.0</td>\n",
       "    </tr>\n",
       "    <tr>\n",
       "      <th>1329999</th>\n",
       "      <td>27114.535070</td>\n",
       "      <td>188.632387</td>\n",
       "      <td>539.793160</td>\n",
       "      <td>0.000240</td>\n",
       "      <td>0.000240</td>\n",
       "      <td>1052232.0</td>\n",
       "    </tr>\n",
       "  </tbody>\n",
       "</table>\n",
       "<p>1330000 rows × 6 columns</p>\n",
       "</div>"
      ],
      "text/plain": [
       "             sendTime        posX        posY      spdX       spdY  \\\n",
       "0        28535.013764  181.519945  891.698383 -4.538430  -0.600631   \n",
       "1        28535.169082  145.372169  891.524489 -1.106934  -2.789263   \n",
       "2        28535.208921  152.391028  909.001472  1.123800 -15.154916   \n",
       "3        28535.221525  170.028482  889.764678 -1.306324  -0.172629   \n",
       "4        28535.611519  162.029408  889.237818  0.000452   0.000452   \n",
       "...               ...         ...         ...       ...        ...   \n",
       "1329995  27112.535069  188.826721  539.779185  0.000240   0.000240   \n",
       "1329996  27112.959575  383.150803  515.363692 -6.355285  -5.273393   \n",
       "1329997  27113.535069  188.606217  539.809818  0.000240   0.000240   \n",
       "1329998  27113.959575  376.568343  512.248939 -7.791961  -2.735168   \n",
       "1329999  27114.535070  188.632387  539.793160  0.000240   0.000240   \n",
       "\n",
       "         senderPseudo  \n",
       "0           1097832.0  \n",
       "1          10101612.0  \n",
       "2          10102092.0  \n",
       "3           1097292.0  \n",
       "4           1096872.0  \n",
       "...               ...  \n",
       "1329995     1052232.0  \n",
       "1329996     1053372.0  \n",
       "1329997     1052232.0  \n",
       "1329998     1053372.0  \n",
       "1329999     1052232.0  \n",
       "\n",
       "[1330000 rows x 6 columns]"
      ]
     },
     "execution_count": 3,
     "metadata": {},
     "output_type": "execute_result"
    }
   ],
   "source": [
    "train_data"
   ]
  },
  {
   "cell_type": "markdown",
   "metadata": {},
   "source": [
    "Since the models developed are expecting the data in the formt of sequences, here we transform the data into sequences of 20 messages and apply a Standard Scaler to the data."
   ]
  },
  {
   "cell_type": "code",
   "execution_count": 3,
   "metadata": {},
   "outputs": [],
   "source": [
    "scaler = StandardScaler()\n",
    "normalized_data = scaler.fit_transform(train_data.values)\n",
    "\n",
    "sequence_length = 20\n",
    "\n",
    "X_train = []\n",
    "\n",
    "for i in range(0, len(normalized_data) ,20):\n",
    "    X_train.append(normalized_data[i:i + sequence_length, :])\n",
    "\n",
    "\n",
    "X_train = np.array(X_train)"
   ]
  },
  {
   "cell_type": "code",
   "execution_count": 5,
   "metadata": {},
   "outputs": [
    {
     "data": {
      "text/plain": [
       "(66500, 20, 6)"
      ]
     },
     "execution_count": 5,
     "metadata": {},
     "output_type": "execute_result"
    }
   ],
   "source": [
    "X_train.shape"
   ]
  },
  {
   "cell_type": "markdown",
   "metadata": {},
   "source": [
    "### Model M1: LSTM Autoencoder definition"
   ]
  },
  {
   "cell_type": "code",
   "execution_count": null,
   "metadata": {},
   "outputs": [],
   "source": [
    "import keras\n",
    "model = keras.Sequential()\n",
    "\n",
    "# Encoder\n",
    "model.add(keras.layers.LSTM(1024, input_shape=(X_train.shape[1], X_train.shape[2]), return_sequences=True))\n",
    "model.add(keras.layers.Dropout(rate=0.2))\n",
    "model.add(keras.layers.LSTM(512))\n",
    "model.add(keras.layers.Dropout(rate=0.2))\n",
    "\n",
    "\n",
    "# Bottleneck (RepeatVector)\n",
    "model.add(keras.layers.RepeatVector(X_train.shape[1]))\n",
    "\n",
    "# Decoder\n",
    "model.add(keras.layers.LSTM(units=512, return_sequences=True))\n",
    "model.add(keras.layers.Dropout(rate=0.2))\n",
    "model.add(keras.layers.LSTM(units=1024, return_sequences=True))\n",
    "model.add(keras.layers.Dropout(rate=0.2))\n",
    "\n",
    "# TimeDistributed Dense layer for output\n",
    "model.add(keras.layers.TimeDistributed(keras.layers.Dense(units=4)))\n",
    "\n",
    "\n",
    "model.summary()\n",
    "model.compile(optimizer='adam', loss='mean_absolute_error', metrics=[tf.keras.metrics.MeanSquaredError(),tf.keras.metrics.MeanAbsoluteError()])\n",
    "\n",
    "# Train the model\n",
    "history = model.fit(X_train, X_train[:,:,1:5], epochs=100,batch_size=20, validation_split=0.2)\n",
    "\n",
    "# Plot training loss graph\n",
    "plt.plot(history.history['loss'], label='Training Loss')\n",
    "plt.plot(history.history['val_loss'], label='Validation Loss')\n",
    "plt.title('Training Loss of LSTM Autoencoder')\n",
    "plt.xlabel('Epochs')\n",
    "plt.ylabel('Mean Absolute Error')\n",
    "plt.legend()\n",
    "plt.show()\n"
   ]
  },
  {
   "cell_type": "markdown",
   "metadata": {},
   "source": [
    "### Model M2: CNN-LSTM definition"
   ]
  },
  {
   "cell_type": "code",
   "execution_count": null,
   "metadata": {},
   "outputs": [],
   "source": [
    "from keras.models import Sequential\n",
    "from keras.layers import Conv1D, LSTM, Dense, Flatten, Reshape, Dropout\n",
    "\n",
    "model = Sequential()\n",
    "\n",
    "# Convolutional layers\n",
    "model.add(Conv1D(filters=1024, kernel_size=3, activation='relu', input_shape=(20, 6)))\n",
    "model.add(Conv1D(filters=512, kernel_size=3, activation='relu'))\n",
    "\n",
    "\n",
    "# LSTM layer\n",
    "model.add(LSTM(units=512, return_sequences=True))\n",
    "model.add(Dropout(rate=0.2))\n",
    "model.add(LSTM(units=512, return_sequences=True))\n",
    "model.add(Dropout(rate=0.2))\n",
    "model.add(LSTM(units=512, return_sequences=True))\n",
    "model.add(Dropout(rate=0.2))\n",
    "model.add(LSTM(units=512, return_sequences=True))\n",
    "\n",
    "# Flatten the output before the dense layer\n",
    "model.add(Flatten())\n",
    "\n",
    "# Dense layer for reconstruction\n",
    "model.add(Dense(units=20 * 4))  # Adjusted output shape\n",
    "\n",
    "# Reshape the output to (20, 4)\n",
    "model.add(Reshape((20, 4)))\n",
    "\n",
    "# Compile the model\n",
    "model.compile(optimizer='adam', loss='mean_absolute_error', metrics=[tf.keras.metrics.MeanSquaredError(),tf.keras.metrics.MeanAbsoluteError()])\n",
    "\n",
    "# Display the model summary\n",
    "model.summary()\n",
    "# Train the model\n",
    "history = model.fit(X_train, X_train[:,:,1:5], epochs=50, batch_size=20, validation_split=0.2)\n",
    "\n",
    "# Plot training loss graph\n",
    "plt.plot(history.history['loss'], label='Training Loss')\n",
    "plt.plot(history.history['val_loss'], label='Validation Loss')\n",
    "plt.title('Training Loss of CNN-LSTM')\n",
    "plt.xlabel('Epochs')\n",
    "plt.ylabel('Mean Absolute Error')\n",
    "plt.legend()\n",
    "plt.show()"
   ]
  },
  {
   "cell_type": "markdown",
   "metadata": {},
   "source": [
    "### Model M3: CNN-BiLSTM"
   ]
  },
  {
   "cell_type": "code",
   "execution_count": null,
   "metadata": {},
   "outputs": [],
   "source": [
    "from keras.models import Sequential\n",
    "from keras.layers import Conv1D, Bidirectional, LSTM, Dense, Flatten, Reshape, Dropout\n",
    "\n",
    "model = Sequential()\n",
    "\n",
    "# Convolutional layers\n",
    "model.add(Conv1D(filters=1024, kernel_size=3, activation='relu', input_shape=(20, 6)))\n",
    "model.add(Conv1D(filters=512, kernel_size=3, activation='relu'))\n",
    "\n",
    "\n",
    "# LSTM layer\n",
    "model.add(Bidirectional(LSTM(units=512, return_sequences=True)))\n",
    "model.add(Dropout(rate=0.2))\n",
    "model.add(Bidirectional(LSTM(units=512, return_sequences=True)))\n",
    "model.add(Dropout(rate=0.2))\n",
    "model.add(Bidirectional(LSTM(units=512, return_sequences=True)))\n",
    "model.add(Dropout(rate=0.2))\n",
    "model.add(Bidirectional(LSTM(units=512, return_sequences=True)))\n",
    "\n",
    "# Flatten the output before the dense layer\n",
    "model.add(Flatten())\n",
    "\n",
    "# Dense layer for reconstruction\n",
    "model.add(Dense(units=20 * 4))  # Adjusted output shape\n",
    "\n",
    "# Reshape the output to (20, 4)\n",
    "model.add(Reshape((20, 4)))\n",
    "\n",
    "# Compile the model\n",
    "model.compile(optimizer='adam', loss='mean_absolute_error', metrics=[tf.keras.metrics.MeanSquaredError(),tf.keras.metrics.MeanAbsoluteError()])\n",
    "\n",
    "# Display the model summary\n",
    "model.summary()\n",
    "# Train the model\n",
    "history = model.fit(X_train, X_train[:,:,1:5], epochs=50, batch_size=20, validation_split=0.2)\n",
    "\n",
    "# Plot training loss graph\n",
    "plt.plot(history.history['loss'], label='Training Loss')\n",
    "plt.plot(history.history['val_loss'], label='Validation Loss')\n",
    "plt.title('Training Loss of CNN-BiLSTM')\n",
    "plt.xlabel('Epochs')\n",
    "plt.ylabel('Mean Absolute Error')\n",
    "plt.legend()\n",
    "plt.show()"
   ]
  },
  {
   "cell_type": "markdown",
   "metadata": {},
   "source": [
    "Save the model trained to disk. Use formats like .h5 or .keras"
   ]
  },
  {
   "cell_type": "code",
   "execution_count": null,
   "metadata": {},
   "outputs": [],
   "source": [
    "model_trained_name = \"trained.h5\"\n",
    "model.save(model_trained_name)"
   ]
  },
  {
   "cell_type": "markdown",
   "metadata": {},
   "source": [
    "Code for model loading (avoid training again )"
   ]
  },
  {
   "cell_type": "code",
   "execution_count": 4,
   "metadata": {},
   "outputs": [
    {
     "name": "stdout",
     "output_type": "stream",
     "text": [
      "Model: \"sequential\"\n",
      "_________________________________________________________________\n",
      " Layer (type)                Output Shape              Param #   \n",
      "=================================================================\n",
      " lstm (LSTM)                 (None, 20, 1024)          4222976   \n",
      "                                                                 \n",
      " dropout (Dropout)           (None, 20, 1024)          0         \n",
      "                                                                 \n",
      " lstm_1 (LSTM)               (None, 512)               3147776   \n",
      "                                                                 \n",
      " dropout_1 (Dropout)         (None, 512)               0         \n",
      "                                                                 \n",
      " repeat_vector (RepeatVecto  (None, 20, 512)           0         \n",
      " r)                                                              \n",
      "                                                                 \n",
      " lstm_2 (LSTM)               (None, 20, 512)           2099200   \n",
      "                                                                 \n",
      " dropout_2 (Dropout)         (None, 20, 512)           0         \n",
      "                                                                 \n",
      " lstm_3 (LSTM)               (None, 20, 1024)          6295552   \n",
      "                                                                 \n",
      " dropout_3 (Dropout)         (None, 20, 1024)          0         \n",
      "                                                                 \n",
      " time_distributed (TimeDist  (None, 20, 4)             4100      \n",
      " ributed)                                                        \n",
      "                                                                 \n",
      "=================================================================\n",
      "Total params: 15769604 (60.16 MB)\n",
      "Trainable params: 15769604 (60.16 MB)\n",
      "Non-trainable params: 0 (0.00 Byte)\n",
      "_________________________________________________________________\n"
     ]
    }
   ],
   "source": [
    "from tensorflow.keras.models import load_model\n",
    "model = tf.keras.models.load_model(\"genuine2_posspd_pseudofix_MAE_bt20_100epochs.h5\")\n",
    "model.summary()\n"
   ]
  },
  {
   "cell_type": "markdown",
   "metadata": {},
   "source": [
    "Reading the test dataset (the one that will be used in the supervised learning)"
   ]
  },
  {
   "cell_type": "code",
   "execution_count": 5,
   "metadata": {},
   "outputs": [],
   "source": [
    "test_dataset_path = \"C:\\\\Users\\\\tcosta\\\\Desktop\\\\VeReMi-Dataset\\\\15200seqall_pseudo.csv\"\n",
    "X_test_o = pd.read_csv(test_dataset_path, encoding='utf8', sep=',', header=0)"
   ]
  },
  {
   "cell_type": "markdown",
   "metadata": {},
   "source": [
    "Auxiliary code to check if the test data is balanced."
   ]
  },
  {
   "cell_type": "code",
   "execution_count": 7,
   "metadata": {},
   "outputs": [],
   "source": [
    "import pandas as pd\n",
    "\n",
    "test_smaller = []\n",
    "gen_count = 0\n",
    "attack_count = {i: 0 for i in range(1, 20)}  # Assuming attack types from 1 to 19\n",
    "\n",
    "for i in range(0, len(X_test_o), 20):\n",
    "    seq = X_test_o.loc[i:i + sequence_length - 1].copy()\n",
    "    attack_type = seq[\"attack\"].max()\n",
    "\n",
    "    if attack_type == 0 and gen_count < 7600:\n",
    "        gen_count += 1\n",
    "        test_smaller.append(seq)\n",
    "    elif attack_type != 0 and attack_count[attack_type] < 400:\n",
    "        attack_count[attack_type] += 1\n",
    "        test_smaller.append(seq)\n",
    "\n",
    "    # Check if we have collected 7600 sequences of type 0 and 400 sequences for each other attack type\n",
    "    if gen_count == 7600 and all(count == 400 for count in attack_count.values()):\n",
    "        break\n",
    "\n",
    "X_test_o = pd.concat(test_smaller, ignore_index=True)"
   ]
  },
  {
   "cell_type": "code",
   "execution_count": 8,
   "metadata": {},
   "outputs": [
    {
     "data": {
      "text/plain": [
       "{1: 400,\n",
       " 2: 400,\n",
       " 3: 400,\n",
       " 4: 400,\n",
       " 5: 400,\n",
       " 6: 400,\n",
       " 7: 400,\n",
       " 8: 400,\n",
       " 9: 400,\n",
       " 10: 400,\n",
       " 11: 400,\n",
       " 12: 400,\n",
       " 13: 400,\n",
       " 14: 400,\n",
       " 15: 400,\n",
       " 16: 400,\n",
       " 17: 400,\n",
       " 18: 400,\n",
       " 19: 400}"
      ]
     },
     "execution_count": 8,
     "metadata": {},
     "output_type": "execute_result"
    }
   ],
   "source": [
    "attack_count"
   ]
  },
  {
   "cell_type": "markdown",
   "metadata": {},
   "source": [
    "Dropping the attack column (comes from VeReMi)"
   ]
  },
  {
   "cell_type": "code",
   "execution_count": 6,
   "metadata": {},
   "outputs": [
    {
     "data": {
      "text/html": [
       "<div>\n",
       "<style scoped>\n",
       "    .dataframe tbody tr th:only-of-type {\n",
       "        vertical-align: middle;\n",
       "    }\n",
       "\n",
       "    .dataframe tbody tr th {\n",
       "        vertical-align: top;\n",
       "    }\n",
       "\n",
       "    .dataframe thead th {\n",
       "        text-align: right;\n",
       "    }\n",
       "</style>\n",
       "<table border=\"1\" class=\"dataframe\">\n",
       "  <thead>\n",
       "    <tr style=\"text-align: right;\">\n",
       "      <th></th>\n",
       "      <th>sendTime</th>\n",
       "      <th>posX</th>\n",
       "      <th>posY</th>\n",
       "      <th>spdX</th>\n",
       "      <th>spdY</th>\n",
       "      <th>senderPseudo</th>\n",
       "    </tr>\n",
       "  </thead>\n",
       "  <tbody>\n",
       "    <tr>\n",
       "      <th>0</th>\n",
       "      <td>28468.090253</td>\n",
       "      <td>1072.964438</td>\n",
       "      <td>946.771904</td>\n",
       "      <td>16.251330</td>\n",
       "      <td>4.190135</td>\n",
       "      <td>1095432.0</td>\n",
       "    </tr>\n",
       "    <tr>\n",
       "      <th>1</th>\n",
       "      <td>28468.106679</td>\n",
       "      <td>1028.192775</td>\n",
       "      <td>928.521196</td>\n",
       "      <td>-12.789472</td>\n",
       "      <td>-3.236370</td>\n",
       "      <td>1099032.0</td>\n",
       "    </tr>\n",
       "    <tr>\n",
       "      <th>2</th>\n",
       "      <td>28468.291273</td>\n",
       "      <td>1232.611616</td>\n",
       "      <td>986.054347</td>\n",
       "      <td>15.406516</td>\n",
       "      <td>0.276186</td>\n",
       "      <td>1097472.0</td>\n",
       "    </tr>\n",
       "    <tr>\n",
       "      <th>3</th>\n",
       "      <td>28468.295233</td>\n",
       "      <td>1086.661636</td>\n",
       "      <td>943.648126</td>\n",
       "      <td>-13.675241</td>\n",
       "      <td>-3.520100</td>\n",
       "      <td>1098792.0</td>\n",
       "    </tr>\n",
       "    <tr>\n",
       "      <th>4</th>\n",
       "      <td>28468.317795</td>\n",
       "      <td>1069.746416</td>\n",
       "      <td>948.589687</td>\n",
       "      <td>10.907709</td>\n",
       "      <td>2.807073</td>\n",
       "      <td>1094892.0</td>\n",
       "    </tr>\n",
       "    <tr>\n",
       "      <th>...</th>\n",
       "      <td>...</td>\n",
       "      <td>...</td>\n",
       "      <td>...</td>\n",
       "      <td>...</td>\n",
       "      <td>...</td>\n",
       "      <td>...</td>\n",
       "    </tr>\n",
       "    <tr>\n",
       "      <th>303995</th>\n",
       "      <td>25705.256333</td>\n",
       "      <td>1142.248922</td>\n",
       "      <td>957.848987</td>\n",
       "      <td>-12.610293</td>\n",
       "      <td>-3.246047</td>\n",
       "      <td>1012452.0</td>\n",
       "    </tr>\n",
       "    <tr>\n",
       "      <th>303996</th>\n",
       "      <td>25705.291796</td>\n",
       "      <td>1385.520456</td>\n",
       "      <td>1169.570612</td>\n",
       "      <td>3.390393</td>\n",
       "      <td>15.659926</td>\n",
       "      <td>108192.0</td>\n",
       "    </tr>\n",
       "    <tr>\n",
       "      <th>303997</th>\n",
       "      <td>25705.349016</td>\n",
       "      <td>1168.857385</td>\n",
       "      <td>964.862543</td>\n",
       "      <td>-13.533834</td>\n",
       "      <td>-3.483307</td>\n",
       "      <td>1012272.0</td>\n",
       "    </tr>\n",
       "    <tr>\n",
       "      <th>303998</th>\n",
       "      <td>25705.578136</td>\n",
       "      <td>1037.168873</td>\n",
       "      <td>934.210246</td>\n",
       "      <td>-12.806180</td>\n",
       "      <td>-3.298354</td>\n",
       "      <td>1012692.0</td>\n",
       "    </tr>\n",
       "    <tr>\n",
       "      <th>303999</th>\n",
       "      <td>25705.580405</td>\n",
       "      <td>1124.546612</td>\n",
       "      <td>953.066869</td>\n",
       "      <td>-12.336239</td>\n",
       "      <td>-3.175115</td>\n",
       "      <td>1012632.0</td>\n",
       "    </tr>\n",
       "  </tbody>\n",
       "</table>\n",
       "<p>304000 rows × 6 columns</p>\n",
       "</div>"
      ],
      "text/plain": [
       "            sendTime         posX         posY       spdX       spdY  \\\n",
       "0       28468.090253  1072.964438   946.771904  16.251330   4.190135   \n",
       "1       28468.106679  1028.192775   928.521196 -12.789472  -3.236370   \n",
       "2       28468.291273  1232.611616   986.054347  15.406516   0.276186   \n",
       "3       28468.295233  1086.661636   943.648126 -13.675241  -3.520100   \n",
       "4       28468.317795  1069.746416   948.589687  10.907709   2.807073   \n",
       "...              ...          ...          ...        ...        ...   \n",
       "303995  25705.256333  1142.248922   957.848987 -12.610293  -3.246047   \n",
       "303996  25705.291796  1385.520456  1169.570612   3.390393  15.659926   \n",
       "303997  25705.349016  1168.857385   964.862543 -13.533834  -3.483307   \n",
       "303998  25705.578136  1037.168873   934.210246 -12.806180  -3.298354   \n",
       "303999  25705.580405  1124.546612   953.066869 -12.336239  -3.175115   \n",
       "\n",
       "        senderPseudo  \n",
       "0          1095432.0  \n",
       "1          1099032.0  \n",
       "2          1097472.0  \n",
       "3          1098792.0  \n",
       "4          1094892.0  \n",
       "...              ...  \n",
       "303995     1012452.0  \n",
       "303996      108192.0  \n",
       "303997     1012272.0  \n",
       "303998     1012692.0  \n",
       "303999     1012632.0  \n",
       "\n",
       "[304000 rows x 6 columns]"
      ]
     },
     "execution_count": 6,
     "metadata": {},
     "output_type": "execute_result"
    }
   ],
   "source": [
    "X_test = X_test_o.drop(['attack'], axis=1)\n",
    "X_test"
   ]
  },
  {
   "cell_type": "markdown",
   "metadata": {},
   "source": [
    "The test data needs to be transformed according to the training data, so the same standard scaler is used"
   ]
  },
  {
   "cell_type": "code",
   "execution_count": 7,
   "metadata": {},
   "outputs": [],
   "source": [
    "\n",
    "normalized_data = scaler.transform(X_test.values)\n",
    "\n",
    "sequence_length = 20\n",
    "\n",
    "# Create sequences for training\n",
    "test = []\n",
    "for i in range(0, len(normalized_data), 20):\n",
    "    test.append(normalized_data[i:i + sequence_length, :])\n",
    "\n",
    "test = np.array(test)"
   ]
  },
  {
   "cell_type": "code",
   "execution_count": 8,
   "metadata": {},
   "outputs": [
    {
     "name": "stdout",
     "output_type": "stream",
     "text": [
      "475/475 [==============================] - 179s 374ms/step\n"
     ]
    }
   ],
   "source": [
    "# Use the trained model to reconstruct the input data\n",
    "reconstructed_data = model.predict(test)"
   ]
  },
  {
   "cell_type": "markdown",
   "metadata": {},
   "source": [
    "Auxiliary code to calculate the mean inference time"
   ]
  },
  {
   "cell_type": "code",
   "execution_count": 10,
   "metadata": {},
   "outputs": [
    {
     "name": "stdout",
     "output_type": "stream",
     "text": [
      "1/1 [==============================] - 0s 47ms/step\n",
      "1/1 [==============================] - 0s 40ms/step\n",
      "1/1 [==============================] - 0s 49ms/step\n",
      "1/1 [==============================] - 0s 36ms/step\n",
      "1/1 [==============================] - 0s 43ms/step\n",
      "1/1 [==============================] - 0s 56ms/step\n",
      "1/1 [==============================] - 0s 61ms/step\n",
      "1/1 [==============================] - 0s 58ms/step\n",
      "1/1 [==============================] - 0s 71ms/step\n",
      "1/1 [==============================] - 0s 84ms/step\n",
      "1/1 [==============================] - 0s 69ms/step\n",
      "1/1 [==============================] - 0s 51ms/step\n",
      "1/1 [==============================] - 0s 49ms/step\n",
      "1/1 [==============================] - 0s 39ms/step\n",
      "1/1 [==============================] - 0s 29ms/step\n",
      "1/1 [==============================] - 0s 42ms/step\n",
      "1/1 [==============================] - 0s 49ms/step\n",
      "1/1 [==============================] - 0s 58ms/step\n",
      "1/1 [==============================] - 0s 50ms/step\n",
      "1/1 [==============================] - 0s 55ms/step\n",
      "1/1 [==============================] - 0s 47ms/step\n",
      "1/1 [==============================] - 0s 40ms/step\n",
      "1/1 [==============================] - 0s 44ms/step\n",
      "1/1 [==============================] - 0s 60ms/step\n",
      "1/1 [==============================] - 0s 49ms/step\n",
      "1/1 [==============================] - 0s 48ms/step\n",
      "1/1 [==============================] - 0s 52ms/step\n",
      "1/1 [==============================] - 0s 40ms/step\n",
      "1/1 [==============================] - 0s 56ms/step\n",
      "1/1 [==============================] - 0s 54ms/step\n",
      "1/1 [==============================] - 0s 65ms/step\n",
      "1/1 [==============================] - 0s 47ms/step\n",
      "1/1 [==============================] - 0s 37ms/step\n",
      "1/1 [==============================] - 0s 36ms/step\n",
      "1/1 [==============================] - 0s 32ms/step\n",
      "1/1 [==============================] - 0s 76ms/step\n",
      "1/1 [==============================] - 0s 49ms/step\n",
      "1/1 [==============================] - 0s 39ms/step\n",
      "1/1 [==============================] - 0s 94ms/step\n",
      "1/1 [==============================] - 0s 31ms/step\n",
      "1/1 [==============================] - 0s 40ms/step\n",
      "1/1 [==============================] - 0s 43ms/step\n",
      "1/1 [==============================] - 0s 42ms/step\n",
      "1/1 [==============================] - 0s 65ms/step\n",
      "1/1 [==============================] - 0s 26ms/step\n",
      "1/1 [==============================] - 0s 33ms/step\n",
      "1/1 [==============================] - 0s 45ms/step\n",
      "1/1 [==============================] - 0s 41ms/step\n",
      "1/1 [==============================] - 0s 32ms/step\n",
      "1/1 [==============================] - 0s 32ms/step\n",
      "1/1 [==============================] - 0s 47ms/step\n",
      "1/1 [==============================] - 0s 76ms/step\n",
      "1/1 [==============================] - 0s 103ms/step\n",
      "1/1 [==============================] - 0s 115ms/step\n",
      "1/1 [==============================] - 0s 52ms/step\n",
      "1/1 [==============================] - 0s 63ms/step\n",
      "1/1 [==============================] - 0s 54ms/step\n",
      "1/1 [==============================] - 0s 31ms/step\n",
      "1/1 [==============================] - 0s 47ms/step\n",
      "1/1 [==============================] - 0s 26ms/step\n",
      "1/1 [==============================] - 0s 47ms/step\n",
      "1/1 [==============================] - 0s 37ms/step\n",
      "1/1 [==============================] - 0s 26ms/step\n",
      "1/1 [==============================] - 0s 35ms/step\n",
      "1/1 [==============================] - 0s 30ms/step\n",
      "1/1 [==============================] - 0s 32ms/step\n",
      "1/1 [==============================] - 0s 34ms/step\n",
      "1/1 [==============================] - 0s 37ms/step\n",
      "1/1 [==============================] - 0s 52ms/step\n",
      "1/1 [==============================] - 0s 30ms/step\n",
      "1/1 [==============================] - 0s 27ms/step\n",
      "1/1 [==============================] - 0s 58ms/step\n",
      "1/1 [==============================] - 0s 44ms/step\n",
      "1/1 [==============================] - 0s 38ms/step\n",
      "1/1 [==============================] - 0s 43ms/step\n",
      "1/1 [==============================] - 0s 40ms/step\n",
      "1/1 [==============================] - 0s 64ms/step\n",
      "1/1 [==============================] - 0s 44ms/step\n",
      "1/1 [==============================] - 0s 53ms/step\n",
      "1/1 [==============================] - 0s 43ms/step\n",
      "1/1 [==============================] - 0s 28ms/step\n",
      "1/1 [==============================] - 0s 52ms/step\n",
      "1/1 [==============================] - 0s 48ms/step\n",
      "1/1 [==============================] - 0s 25ms/step\n",
      "1/1 [==============================] - 0s 36ms/step\n",
      "1/1 [==============================] - 0s 33ms/step\n",
      "1/1 [==============================] - 0s 24ms/step\n",
      "1/1 [==============================] - 0s 31ms/step\n",
      "1/1 [==============================] - 0s 30ms/step\n",
      "1/1 [==============================] - 0s 29ms/step\n",
      "1/1 [==============================] - 0s 24ms/step\n",
      "1/1 [==============================] - 0s 29ms/step\n",
      "1/1 [==============================] - 0s 27ms/step\n",
      "1/1 [==============================] - 0s 48ms/step\n",
      "1/1 [==============================] - 0s 48ms/step\n",
      "1/1 [==============================] - 0s 44ms/step\n",
      "1/1 [==============================] - 0s 39ms/step\n",
      "1/1 [==============================] - 0s 65ms/step\n",
      "1/1 [==============================] - 0s 38ms/step\n",
      "1/1 [==============================] - 0s 153ms/step\n",
      "Average Inference Time per Sequence: 0.1015 seconds\n"
     ]
    }
   ],
   "source": [
    "import time\n",
    "def run_inference(sequence):\n",
    "  start_time = time.time()\n",
    "  prediction = model.predict(sequence[None, :, :])  # Add batch dimension\n",
    "  inference_time = time.time() - start_time\n",
    "  return prediction, inference_time\n",
    "\n",
    "\n",
    "num_runs = 100\n",
    "total_time = 0\n",
    "\n",
    "for _ in range(num_runs):\n",
    "  random_index = np.random.randint(0, len(test))\n",
    "  sequence = test[random_index]\n",
    "  prediction, inference_time = run_inference(sequence)\n",
    "  total_time += inference_time\n",
    "\n",
    "average_inference_time = total_time / num_runs\n",
    "\n",
    "\n",
    "print(f\"Average Inference Time per Sequence: {average_inference_time:.4f} seconds\")"
   ]
  },
  {
   "cell_type": "markdown",
   "metadata": {},
   "source": [
    "Needed code to the thresholding algorithm, where it labels the whole window instead of the individual messages. Since we have the type of attack in this stage, we also use it to then calculate the recall of each attack."
   ]
  },
  {
   "cell_type": "code",
   "execution_count": 9,
   "metadata": {},
   "outputs": [
    {
     "data": {
      "text/plain": [
       "array([[1.],\n",
       "       [1.],\n",
       "       [1.],\n",
       "       ...,\n",
       "       [0.],\n",
       "       [0.],\n",
       "       [0.]])"
      ]
     },
     "execution_count": 9,
     "metadata": {},
     "output_type": "execute_result"
    }
   ],
   "source": [
    "y_test= np.zeros((test.shape[0], 1))\n",
    "y_test_non_binary = np.zeros((test.shape[0], 1))\n",
    "j = 0\n",
    "for i in range(0, len(X_test_o) ,20):\n",
    "    seq = X_test_o.loc[i:i + sequence_length - 1].copy()\n",
    "    if (seq[\"attack\"] == 0).all():\n",
    "        y_test[j] = 0\n",
    "        y_test_non_binary[j] = 0\n",
    "    elif (seq[\"attack\"] != 0).any():\n",
    "        y_test[j] = 1\n",
    "        y_test_non_binary[j] = seq[\"attack\"].max()\n",
    "    j+=1\n",
    "\n",
    "\n",
    "y_test"
   ]
  },
  {
   "cell_type": "code",
   "execution_count": null,
   "metadata": {},
   "outputs": [],
   "source": [
    "y_test_non_binary"
   ]
  },
  {
   "cell_type": "code",
   "execution_count": 10,
   "metadata": {},
   "outputs": [],
   "source": [
    "y_test_expanded = np.repeat(y_test, 20, axis=0)"
   ]
  },
  {
   "cell_type": "code",
   "execution_count": 11,
   "metadata": {},
   "outputs": [],
   "source": [
    "y_test_non_binary = np.repeat(y_test_non_binary,20,axis=0)"
   ]
  },
  {
   "cell_type": "markdown",
   "metadata": {},
   "source": [
    "### Thresholding algorithm\n"
   ]
  },
  {
   "cell_type": "code",
   "execution_count": 12,
   "metadata": {},
   "outputs": [
    {
     "data": {
      "image/png": "[encoded data removed]",
      "text/plain": [
       "<Figure size 1000x600 with 1 Axes>"
      ]
     },
     "metadata": {},
     "output_type": "display_data"
    },
    {
     "name": "stdout",
     "output_type": "stream",
     "text": [
      "Best Threshold: 0.06999999999999999\n",
      "Best Accuracy: 0.9894736842105263\n",
      "Best Precision: 0.9963971176941553\n",
      "Best Recall: 0.9825\n",
      "Best F1 Score: 0.9893997614946337\n",
      "Confusion Matrix: [[151460    540]\n",
      " [  2660 149340]]\n",
      "Classification report:               precision    recall  f1-score   support\n",
      "\n",
      "         0.0       0.98      1.00      0.99    152000\n",
      "         1.0       1.00      0.98      0.99    152000\n",
      "\n",
      "    accuracy                           0.99    304000\n",
      "   macro avg       0.99      0.99      0.99    304000\n",
      "weighted avg       0.99      0.99      0.99    304000\n",
      "\n"
     ]
    }
   ],
   "source": [
    "import numpy as np\n",
    "import pandas as pd\n",
    "import matplotlib.pyplot as plt\n",
    "from sklearn.metrics import precision_score, accuracy_score, recall_score, f1_score, confusion_matrix, classification_report, mean_absolute_error\n",
    "\n",
    "def anomaly_detection_and_evaluation(test, reconstructed_data, X_test, X_test_o, threshold_values):\n",
    "    results = []\n",
    "\n",
    "    for threshold in threshold_values:\n",
    "       \n",
    "        test_flatten = test[:,:,1:5].reshape(test.shape[0] * 20, 4)\n",
    "        \n",
    "        mae_values = np.mean(np.abs(test[:, :, 1:5] - reconstructed_data), axis=(1,2))\n",
    "        predictions = (mae_values > threshold).astype(int)\n",
    "        predictions_expanded = np.repeat(predictions, 20, axis=0)\n",
    "\n",
    "        labeled_dataset = pd.DataFrame(data=X_test.loc[:test_flatten.shape[0], :], columns=X_test.columns)\n",
    "        labeled_dataset['label'] = predictions_expanded\n",
    "       # print(labeled_dataset)\n",
    "        # Evaluate the performance\n",
    "        accuracy = accuracy_score(y_test_expanded,labeled_dataset['label'])\n",
    "        precision = precision_score(y_test_expanded,labeled_dataset['label'])\n",
    "        recall = recall_score(y_test_expanded,labeled_dataset['label'])\n",
    "        f1 = f1_score(y_test_expanded,labeled_dataset['label'])\n",
    "        matrix = confusion_matrix(y_test_expanded,labeled_dataset['label'])\n",
    "        report = classification_report(y_test_expanded,labeled_dataset['label'])\n",
    "\n",
    "\n",
    "        results.append({\n",
    "            'threshold': threshold,\n",
    "            'accuracy': accuracy,\n",
    "            'precision': precision,\n",
    "            'recall': recall,\n",
    "            'f1': f1,\n",
    "            'class_matrix': matrix,\n",
    "            'report': report\n",
    "        })\n",
    "        #print(report)\n",
    "\n",
    "    # Find the threshold that maximizes the F1 score\n",
    "    best_result = max(results, key=lambda x: x['f1'])\n",
    "    best_acc = max(results, key=lambda x: x['accuracy'])\n",
    "    best_prec= max(results, key=lambda x: x['precision'])\n",
    "    best_recall = max(results, key=lambda x: x['recall'])\n",
    "\n",
    "    # Plot the results\n",
    "    plt.figure(figsize=(10, 6))\n",
    "    plt.plot([result['threshold'] for result in results], [result['accuracy'] for result in results], label='Accuracy')\n",
    "    plt.plot([result['threshold'] for result in results], [result['precision'] for result in results], label='Precision')\n",
    "    plt.plot([result['threshold'] for result in results], [result['recall'] for result in results], label='Recall')\n",
    "    plt.plot([result['threshold'] for result in results], [result['f1'] for result in results], label='F1 Score')\n",
    "\n",
    "    # Highlight the best values in the plot\n",
    "    #plt.scatter(best_acc['threshold'], best_acc['accuracy'], c='red', marker='o', label='Best Accuracy')\n",
    "    #plt.scatter(best_prec['threshold'], best_prec['precision'], c='green', marker='o', label='Best Precision')\n",
    "    #plt.scatter(best_recall['threshold'], best_recall['recall'], c='blue', marker='o', label='Best Recall')\n",
    "    plt.scatter(best_result['threshold'], best_result['f1'], c='purple', marker='o', label='Best F1 Score')\n",
    "\n",
    "    plt.xlabel('Threshold')\n",
    "    plt.ylabel('Score')\n",
    "    plt.title('Anomaly Detection Evaluation')\n",
    "    plt.legend()\n",
    "    plt.show()\n",
    "\n",
    "    # Print the best values\n",
    "    print(\"Best Threshold:\", best_result['threshold'])\n",
    "    print(\"Best Accuracy:\", best_result['accuracy'])\n",
    "    print(\"Best Precision:\", best_result['precision'])\n",
    "    print(\"Best Recall:\", best_result['recall'])\n",
    "    print(\"Best F1 Score:\", best_result['f1'])\n",
    "    print(\"Confusion Matrix:\", best_result['class_matrix'])\n",
    "    print(\"Classification report:\", best_result['report'])\n",
    "\n",
    "\n",
    "\n",
    "    return best_result['threshold']\n",
    "\n",
    "threshold_values = np.linspace(0.01, 0.5, 50)  # Adjust the range as needed\n",
    "best_threshold = anomaly_detection_and_evaluation(test, reconstructed_data, X_test, X_test_o, threshold_values)"
   ]
  },
  {
   "cell_type": "markdown",
   "metadata": {},
   "source": [
    "With the best threshold, label the dataset so it can be used in the second stage"
   ]
  },
  {
   "cell_type": "code",
   "execution_count": 13,
   "metadata": {},
   "outputs": [],
   "source": [
    "       \n",
    "test_flatten = test[:,:,1:5].reshape(test.shape[0] * 20, 4)\n",
    "\n",
    "test_shape = test.shape[0]\n",
    "mae_values = np.mean(np.abs(test[:, :, 1:5] - reconstructed_data), axis=(1, 2))\n",
    "predictions = (mae_values > best_threshold).astype(int)\n",
    "predictions_expanded = np.repeat(predictions, 20, axis=0)\n",
    "\n",
    "labeled_dataset = pd.DataFrame(data=X_test.loc[:test_flatten.shape[0], :], columns=X_test.columns)\n",
    "labeled_dataset['label'] = predictions_expanded"
   ]
  },
  {
   "cell_type": "code",
   "execution_count": 14,
   "metadata": {},
   "outputs": [
    {
     "name": "stdout",
     "output_type": "stream",
     "text": [
      "Recall for attack type 1: 0.98\n",
      "Recall for attack type 2: 0.9975\n",
      "Recall for attack type 3: 1.0\n",
      "Recall for attack type 4: 1.0\n",
      "Recall for attack type 5: 0.995\n",
      "Recall for attack type 6: 0.9775\n",
      "Recall for attack type 7: 1.0\n",
      "Recall for attack type 8: 0.99\n",
      "Recall for attack type 9: 0.9975\n",
      "Recall for attack type 10: 0.9975\n",
      "Recall for attack type 11: 1.0\n",
      "Recall for attack type 12: 1.0\n",
      "Recall for attack type 13: 0.875\n",
      "Recall for attack type 14: 0.985\n",
      "Recall for attack type 15: 0.92\n",
      "Recall for attack type 16: 0.9525\n",
      "Recall for attack type 17: 1.0\n",
      "Recall for attack type 18: 1.0\n",
      "Recall for attack type 19: 1.0\n"
     ]
    }
   ],
   "source": [
    "from sklearn.metrics import recall_score\n",
    "recall_per_attack = {}\n",
    "for attack_type in range(1, 20):\n",
    "    true_labels = (y_test_non_binary[:, 0] == attack_type).astype(int)\n",
    "    predicted_labels = predictions_expanded\n",
    "    recall = recall_score(true_labels, predicted_labels)\n",
    "    recall_per_attack[attack_type] = recall\n",
    "# Print the recall values\n",
    "for attack_type, recall in recall_per_attack.items():\n",
    "    print(f'Recall for attack type {attack_type}: {recall}')"
   ]
  },
  {
   "cell_type": "code",
   "execution_count": 20,
   "metadata": {},
   "outputs": [
    {
     "name": "stdout",
     "output_type": "stream",
     "text": [
      "Recall for genuine attacks: 0.9942105263157894\n"
     ]
    }
   ],
   "source": [
    "from sklearn.metrics import recall_score\n",
    "true_labels = (y_test_expanded[:, 0] == 0).astype(int)\n",
    "predicted_labels = (predictions_expanded[:] == 0)\n",
    "recall = recall_score(true_labels, predicted_labels)\n",
    "recall_genuine_attack = recall_score(true_labels, predicted_labels)\n",
    "\n",
    "print(f'Recall for genuine attacks: {recall_genuine_attack}')"
   ]
  },
  {
   "cell_type": "code",
   "execution_count": 58,
   "metadata": {},
   "outputs": [],
   "source": [
    "labeled_dataset.to_csv('labeled_best.csv', index=False)"
   ]
  },
  {
   "cell_type": "markdown",
   "metadata": {},
   "source": [
    "### Experiment\n",
    "\n",
    "If there was not second stage, the inference service would need to be deployed with the best threshold (impractical)"
   ]
  },
  {
   "cell_type": "code",
   "execution_count": 21,
   "metadata": {},
   "outputs": [],
   "source": [
    "sequence = np.array([[[ 1.89002003, -1.03167445,  0.87793484, -0.58292701, -0.11136934,\n",
    "        -0.34467044],\n",
    "       [ 1.89017635, -1.12578504,  0.87732129, -0.14838307, -0.37921884,\n",
    "         2.4836808 ],\n",
    "       [ 1.89021644, -1.10751147,  0.93898524,  0.13410349, -1.89255374,\n",
    "         2.48383158],\n",
    "       [ 1.89022912, -1.06159243,  0.87111216, -0.17363266, -0.05898961,\n",
    "        -0.34484007],\n",
    "       [ 1.89062161, -1.08241799,  0.86925325, -0.00815044, -0.03780754,\n",
    "        -0.34497201],\n",
    "       [ 1.8906691 , -1.14649272,  0.93389556, -0.11799506,  1.39405162,\n",
    "        -0.34402962],\n",
    "       [ 1.89102643, -1.04125742,  0.8762854 , -0.3736385 , -0.08446974,\n",
    "        -0.34467044],\n",
    "       [ 1.89118274, -1.13342241,  0.86794667, -0.45240554, -0.45733001,\n",
    "         2.4836808 ],\n",
    "       [ 1.89122283, -1.10120998,  0.88646053,  0.52063826, -1.83006123,\n",
    "         2.48383158],\n",
    "       [ 1.89123552, -1.06407928,  0.87070359, -0.0750472 , -0.04631757,\n",
    "        -0.34484007],\n",
    "       [ 1.89162802, -1.08248847,  0.86929427, -0.00815044, -0.03780754,\n",
    "        -0.34497201],\n",
    "       [ 1.89167551, -1.14927921,  0.97938058, -0.13958473,  1.67562436,\n",
    "        -0.34402962],\n",
    "       [ 1.89218914, -1.14704393,  0.86102075, -0.84074821, -0.2931538 ,\n",
    "         2.4836808 ],\n",
    "       [ 1.89224192, -1.06453112,  0.87059766, -0.03235033, -0.04082883,\n",
    "        -0.34484007],\n",
    "       [ 1.89263441, -1.08261677,  0.8692436 , -0.00815044, -0.03780754,\n",
    "        -0.34497201],\n",
    "       [ 1.8926819 , -1.15197266,  1.03211742, -0.15023391,  1.81451622,\n",
    "        -0.34402962],\n",
    "       [ 1.89319553, -1.16787928,  0.85796262, -1.13196865, -0.11953203,\n",
    "         2.4836808 ],\n",
    "       [ 1.89364081, -1.08275852,  0.86924715, -0.00815044, -0.03780754,\n",
    "        -0.34497201],\n",
    "       [ 1.8936883 , -1.15482304,  1.08562297, -0.15133162,  1.82883197,\n",
    "        -0.34402962],\n",
    "       [ 1.89420193, -1.18705345,  0.85652165, -0.70584472, -0.07647499,\n",
    "         2.4836808 ]]])"
   ]
  },
  {
   "cell_type": "code",
   "execution_count": 22,
   "metadata": {},
   "outputs": [
    {
     "data": {
      "text/plain": [
       "(1, 20, 6)"
      ]
     },
     "execution_count": 22,
     "metadata": {},
     "output_type": "execute_result"
    }
   ],
   "source": [
    "sequence.shape"
   ]
  },
  {
   "cell_type": "code",
   "execution_count": 23,
   "metadata": {},
   "outputs": [
    {
     "name": "stdout",
     "output_type": "stream",
     "text": [
      "1/1 [==============================] - 2s 2s/step\n"
     ]
    }
   ],
   "source": [
    "sequence_reconstruted = model.predict(sequence)\n",
    "best_threshold = 0.06999999999999999\n",
    "\n",
    "mae_values = np.mean(np.abs(sequence[:,:,1:5] - sequence_reconstruted), axis=(1, 2))\n",
    "predictions = (mae_values > best_threshold).astype(int)"
   ]
  },
  {
   "cell_type": "markdown",
   "metadata": {},
   "source": [
    "# Second Stage\n",
    "## Supervised learning\n",
    "\n",
    "This stage is the one that is deployed and the one that detects the misbehaviors in the proposed V2X scenario. To this task we employed 2 different DNN : Model 1: CNN (S1) and Model 2: Stacked LSTM (S2).\n",
    "We convert our input sequence of 20 x 6 into an image and then we pass it to the S1 model. The S1 is composed by 2 2D CNN layers of 256 and 128 units respectively, being followed by 2 dense layers of 100 and 10 units. The output is also a dense layer, however with just one unit and activated by the sigmoid function since we want to classify the sequence as attack or genuine.\n",
    "\n",
    "The S2 model is a 4 stacked LSTM and it is composed by 4 layers of 256 LSTM units. The output layer is also a dense layer with just one unit activated by the sigmoid function. "
   ]
  },
  {
   "cell_type": "markdown",
   "metadata": {},
   "source": [
    "Read the labeled dataset from the previous stage and the original one (just to testing phase)"
   ]
  },
  {
   "cell_type": "code",
   "execution_count": 59,
   "metadata": {},
   "outputs": [],
   "source": [
    "original_dataset = pd.read_csv(\"15200seqall_pseudo.csv\", encoding='utf8', sep=',',header=0)\n",
    "labeled_dataset = pd.read_csv(\"labeled_best.csv\", encoding='utf8', sep=',', header=0)"
   ]
  },
  {
   "cell_type": "code",
   "execution_count": 60,
   "metadata": {},
   "outputs": [],
   "source": [
    "test_data_o = original_dataset\n",
    "X_te = test_data_o.drop(['attack'], axis=1)\n",
    "y_te = test_data_o['attack']"
   ]
  },
  {
   "cell_type": "code",
   "execution_count": 61,
   "metadata": {},
   "outputs": [],
   "source": [
    "train_data_o = labeled_dataset\n",
    "X_train = train_data_o.drop(['label'], axis=1)\n",
    "y_train = train_data_o['label']"
   ]
  },
  {
   "cell_type": "code",
   "execution_count": 62,
   "metadata": {},
   "outputs": [],
   "source": [
    "scaler = StandardScaler()\n",
    "normalized_data = scaler.fit_transform(X_train.values)\n",
    "\n",
    "# Set your sequence length\n",
    "sequence_length = 20\n",
    "\n",
    "# Create sequences for training\n",
    "X_train = []\n",
    "for i in range(0, len(normalized_data), 20):\n",
    "    X_train.append(normalized_data[i:i + sequence_length, :])\n",
    "\n",
    "\n",
    "X_train = np.array(X_train)"
   ]
  },
  {
   "cell_type": "code",
   "execution_count": 63,
   "metadata": {},
   "outputs": [],
   "source": [
    "\n",
    "normalized_data_test = scaler.transform(X_te.values)\n",
    "\n",
    "sequence_length = 20\n",
    "\n",
    "# Create sequences for training\n",
    "test = []\n",
    "for i in range(0, len(normalized_data_test), 20):\n",
    "    test.append(normalized_data_test[i:i + sequence_length, :])\n",
    "\n",
    "test = np.array(test)"
   ]
  },
  {
   "cell_type": "code",
   "execution_count": null,
   "metadata": {},
   "outputs": [],
   "source": [
    "X_train.shape"
   ]
  },
  {
   "cell_type": "code",
   "execution_count": null,
   "metadata": {},
   "outputs": [],
   "source": [
    "y_train.shape"
   ]
  },
  {
   "cell_type": "code",
   "execution_count": 64,
   "metadata": {},
   "outputs": [
    {
     "data": {
      "text/plain": [
       "array([[1.],\n",
       "       [1.],\n",
       "       [1.],\n",
       "       ...,\n",
       "       [0.],\n",
       "       [0.],\n",
       "       [0.]])"
      ]
     },
     "execution_count": 64,
     "metadata": {},
     "output_type": "execute_result"
    }
   ],
   "source": [
    "y_train = np.zeros((X_train.shape[0], 1))\n",
    "j = 0\n",
    "for i in range(0, len(train_data_o['label']) ,20):\n",
    "    seq = labeled_dataset.loc[i:i + sequence_length - 1].copy()\n",
    "    if (seq[\"label\"] == 0).all():\n",
    "        y_train[j] = 0\n",
    "    elif (seq[\"label\"] != 0).any():\n",
    "        y_train[j] = 1\n",
    "    j+=1\n",
    "\n",
    "\n",
    "y_train"
   ]
  },
  {
   "cell_type": "code",
   "execution_count": 95,
   "metadata": {},
   "outputs": [
    {
     "data": {
      "text/plain": [
       "array([[1.],\n",
       "       [1.],\n",
       "       [1.],\n",
       "       ...,\n",
       "       [0.],\n",
       "       [0.],\n",
       "       [0.]])"
      ]
     },
     "execution_count": 95,
     "metadata": {},
     "output_type": "execute_result"
    }
   ],
   "source": [
    "y_test_true= np.zeros((test.shape[0], 1))\n",
    "j = 0\n",
    "for i in range(0, len(test_data_o['attack']) ,20):\n",
    "    seq = original_dataset.loc[i:i + sequence_length - 1].copy()\n",
    "    if (seq[\"attack\"] == 0).all():\n",
    "        y_test_true[j] = 0\n",
    "    elif (seq[\"attack\"] != 0).any():\n",
    "        y_test_true[j] = 1\n",
    "    j+=1\n",
    "\n",
    "\n",
    "y_test_true"
   ]
  },
  {
   "cell_type": "code",
   "execution_count": 66,
   "metadata": {},
   "outputs": [],
   "source": [
    "from sklearn.model_selection import train_test_split\n",
    "X_train, X_test, y_train, y_test = train_test_split(X_train, y_train, test_size=0.3, random_state=4, stratify=y_train)"
   ]
  },
  {
   "cell_type": "code",
   "execution_count": 96,
   "metadata": {},
   "outputs": [],
   "source": [
    "from sklearn.model_selection import train_test_split\n",
    "_, X_test_true, _, y_test_true = train_test_split(test, y_test_true, test_size=0.3, random_state=200, stratify=y_test_true)"
   ]
  },
  {
   "cell_type": "code",
   "execution_count": 68,
   "metadata": {},
   "outputs": [],
   "source": [
    "X_train_reshaped = X_train.reshape(-1, 20, 6, 1)"
   ]
  },
  {
   "cell_type": "code",
   "execution_count": null,
   "metadata": {},
   "outputs": [],
   "source": [
    "X_train_reshaped.shape"
   ]
  },
  {
   "cell_type": "markdown",
   "metadata": {},
   "source": [
    "Model S1: CNN"
   ]
  },
  {
   "cell_type": "code",
   "execution_count": null,
   "metadata": {},
   "outputs": [],
   "source": [
    "from keras.models import Sequential\n",
    "from keras.layers import Conv2D, MaxPooling2D, Flatten, Dense, Dropout\n",
    "from keras.optimizers import Adam\n",
    "from keras.losses import binary_crossentropy\n",
    "\n",
    "binary_cnn_model = Sequential()\n",
    "\n",
    "# Add the first convolutional layer with 100 filters, a (3, 3) filter size, and (1, 1) strides\n",
    "binary_cnn_model.add(Conv2D(256, (3, 3), strides=(1, 1), activation='relu', input_shape=(X_train_reshaped.shape[1],X_train_reshaped.shape[2],1)))\n",
    "\n",
    "binary_cnn_model.add(Dropout(0.25))\n",
    "\n",
    "# Add the second convolutional layer with 50 filters, a (3, 3) filter size, and (1, 1) strides\n",
    "binary_cnn_model.add(Conv2D(128, (3, 3), strides=(1, 1), activation='relu'))\n",
    "\n",
    "# Add a 0.25 dropout layer\n",
    "binary_cnn_model.add(Dropout(0.25))\n",
    "\n",
    "# Flatten the data before sending it to fully connected layers\n",
    "binary_cnn_model.add(Flatten())\n",
    "\n",
    "\n",
    "binary_cnn_model.add(Dense(100, activation='relu'))\n",
    "binary_cnn_model.add(Dense(10, activation='relu'))\n",
    "\n",
    "\n",
    "# Add the output layer with a single neuron and sigmoid activation for binary classification\n",
    "binary_cnn_model.add(Dense(1, activation='sigmoid'))\n",
    "\n",
    "# Compile the model using binary cross-entropy as the loss function\n",
    "binary_cnn_model.compile(optimizer=Adam(), loss=binary_crossentropy, metrics=['accuracy', tf.keras.metrics.Recall(thresholds=0.5),tf.keras.metrics.F1Score(threshold=0.5),tf.keras.metrics.Precision()])\n",
    "\n",
    "# Display the model summary\n",
    "binary_cnn_model.summary()"
   ]
  },
  {
   "cell_type": "markdown",
   "metadata": {},
   "source": [
    "Model S2: 4 Stacked LSTM"
   ]
  },
  {
   "cell_type": "code",
   "execution_count": null,
   "metadata": {},
   "outputs": [],
   "source": [
    "import tensorflow as tf\n",
    "from tensorflow.keras.models import Sequential\n",
    "from tensorflow.keras.layers import LSTM, Dense,Dropout\n",
    "from keras.losses import binary_crossentropy\n",
    "\n",
    "# Define the 4-LSTM model (Model 3)\n",
    "model_3 = Sequential()\n",
    "\n",
    "# Add the first LSTM layer\n",
    "model_3.add(LSTM(256, return_sequences=True, input_shape=(X_train.shape[1],X_train.shape[2])))\n",
    "# Add three more stacked LSTM layers\n",
    "model_3.add(LSTM(256, return_sequences=True))\n",
    "model_3.add(LSTM(256, return_sequences=True))\n",
    "model_3.add(LSTM(256, return_sequences=False))\n",
    "\n",
    "\n",
    "# Add the output dense layer with ReLU activation\n",
    "model_3.add(Dense(1, activation='sigmoid'))\n",
    "\n",
    "# Compile the model\n",
    "model_3.compile(optimizer='adam', loss=binary_crossentropy, metrics=['accuracy'])\n",
    "from tensorflow.keras.callbacks import EarlyStopping\n",
    "\n",
    "# Define the early stopping callback\n",
    "early_stopping = EarlyStopping(monitor='val_loss', patience=10, restore_best_weights=True)\n",
    "\n",
    "# Print the model summary\n",
    "model_3.summary()\n"
   ]
  },
  {
   "cell_type": "code",
   "execution_count": null,
   "metadata": {},
   "outputs": [],
   "source": [
    "history = model_3.fit(X_train, y_train,\n",
    "                             batch_size=20,\n",
    "                             epochs=15,\n",
    "                             validation_split=0.2)"
   ]
  },
  {
   "cell_type": "code",
   "execution_count": 101,
   "metadata": {},
   "outputs": [],
   "source": [
    "test_reshaped = X_test_true.reshape(-1, 20, 6, 1)"
   ]
  },
  {
   "cell_type": "code",
   "execution_count": 102,
   "metadata": {},
   "outputs": [
    {
     "name": "stdout",
     "output_type": "stream",
     "text": [
      "143/143 [==============================] - 1s 8ms/step\n"
     ]
    }
   ],
   "source": [
    "y_pred_probs = model_3.predict(test_reshaped)"
   ]
  },
  {
   "cell_type": "code",
   "execution_count": 103,
   "metadata": {},
   "outputs": [],
   "source": [
    "y_pred = np.where(y_pred_probs > 0.5, 1, 0)"
   ]
  },
  {
   "cell_type": "code",
   "execution_count": 104,
   "metadata": {},
   "outputs": [
    {
     "name": "stdout",
     "output_type": "stream",
     "text": [
      "0.9890350877192983\n",
      "0.9906583629893239\n",
      "0.987145390070922\n",
      "0.988898756660746\n"
     ]
    }
   ],
   "source": [
    "from sklearn.metrics import precision_score, accuracy_score,recall_score,f1_score\n",
    "accuracy = accuracy_score(y_pred,y_test_true)\n",
    "print(accuracy)\n",
    "print(precision_score(y_pred,y_test_true))\n",
    "print(recall_score(y_pred,y_test_true))\n",
    "print(f1_score(y_pred,y_test_true))"
   ]
  }
 ],
 "metadata": {
  "kernelspec": {
   "display_name": "venv",
   "language": "python",
   "name": "python3"
  },
  "language_info": {
   "codemirror_mode": {
    "name": "ipython",
    "version": 3
   },
   "file_extension": ".py",
   "mimetype": "text/x-python",
   "name": "python",
   "nbconvert_exporter": "python",
   "pygments_lexer": "ipython3",
   "version": "3.8.0"
  }
 },
 "nbformat": 4,
 "nbformat_minor": 2
}
